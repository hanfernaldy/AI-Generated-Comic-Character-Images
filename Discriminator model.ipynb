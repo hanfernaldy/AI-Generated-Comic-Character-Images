{
 "cells": [
  {
   "cell_type": "markdown",
   "metadata": {},
   "source": [
    "# Discriminator Model"
   ]
  },
  {
   "cell_type": "code",
   "execution_count": null,
   "metadata": {},
   "outputs": [],
   "source": [
    "model = Sequential(name='discriminator')\n",
    "input_shape = (64, 64, 3)\n",
    "alpha = 0.2\n",
    "\n",
    "# conv layers\n",
    "model.add(layers.Conv2D(64, (4, 4), strides=(2, 2), padding='same', input_shape=input_shape))\n",
    "model.add(layers.BatchNormalization())\n",
    "model.add(layers.LeakyReLU(alpha=alpha))\n",
    "\n",
    "model.add(layers.Conv2D(128, (4, 4), strides=(2, 2), padding='same', input_shape=input_shape))\n",
    "model.add(layers.BatchNormalization())\n",
    "model.add(layers.LeakyReLU(alpha=alpha))\n",
    "\n",
    "model.add(layers.Conv2D(128, (4, 4), strides=(2, 2), padding='same', input_shape=input_shape))\n",
    "model.add(layers.BatchNormalization())\n",
    "model.add(layers.LeakyReLU(alpha=alpha))\n",
    "\n",
    "model.add(layers.Flatten())\n",
    "model.add(layers.Dropout(0.3))\n",
    "\n",
    "# output class\n",
    "model.add(layers.Dense(1, activation='sigmoid'))\n",
    "\n",
    "discriminator = model\n",
    "discriminator.summary()"
   ]
  },
  {
   "cell_type": "code",
   "execution_count": null,
   "metadata": {},
   "outputs": [],
   "source": [
    "def plot_model_architecture(model):\n",
    "    fig, ax = plt.subplots(figsize=(12, 8))\n",
    "    \n",
    "    layer_width = 0.4\n",
    "    layer_spacing = 0.6\n",
    "    start_pos = 0.5\n",
    "    \n",
    "    for layer in model.layers:\n",
    "        layer_name = layer.__class__.__name__\n",
    "        output_shape = layer.output_shape\n",
    "        \n",
    "        ax.text(start_pos, len(model.layers) - model.layers.index(layer) - 1, \n",
    "                f'{layer_name}\\n{output_shape}', \n",
    "                verticalalignment='center', \n",
    "                horizontalalignment='center', \n",
    "                bbox=dict(facecolor='skyblue', edgecolor='black', boxstyle='round,pad=0.5'))\n",
    "        start_pos += layer_spacing\n",
    "    \n",
    "    ax.set_yticks(range(len(model.layers)))\n",
    "    ax.set_yticklabels([f'Layer {i}' for i in range(len(model.layers))])\n",
    "    ax.set_xticks([])\n",
    "    ax.set_xlim(0, start_pos)\n",
    "    ax.invert_yaxis()\n",
    "    ax.axis('off')\n",
    "    plt.title('Discriminator Model Architecture')\n",
    "    plt.show()\n",
    "\n",
    "plot_model_architecture(discriminator)\n"
   ]
  }
 ],
 "metadata": {
  "kernelspec": {
   "display_name": "Python 3.11.0 64-bit",
   "language": "python",
   "name": "python3"
  },
  "language_info": {
   "codemirror_mode": {
    "name": "ipython",
    "version": 3
   },
   "file_extension": ".py",
   "mimetype": "text/x-python",
   "name": "python",
   "nbconvert_exporter": "python",
   "pygments_lexer": "ipython3",
   "version": "3.11.0"
  },
  "orig_nbformat": 4,
  "vscode": {
   "interpreter": {
    "hash": "5238573367df39f7286bb46f9ff5f08f63a01a80960060ce41e3c79b190280fa"
   }
  }
 },
 "nbformat": 4,
 "nbformat_minor": 2
}
